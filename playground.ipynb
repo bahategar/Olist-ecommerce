{
 "cells": [
  {
   "cell_type": "code",
   "execution_count": 1,
   "id": "441293d0",
   "metadata": {},
   "outputs": [],
   "source": [
    "import pandas as pd\n",
    "import numpy as np\n",
    "import matplotlib.pyplot as plt\n",
    "import seaborn as sns"
   ]
  },
  {
   "cell_type": "code",
   "execution_count": 41,
   "id": "1f8f28ec",
   "metadata": {},
   "outputs": [],
   "source": [
    "import pandas as pd\n",
    "\n",
    "# Sample DataFrame (replace this with your actual orders DataFrame)\n",
    "df_orders = pd.DataFrame({\n",
    "    'customer_unique_id': ['C1', 'C1', 'C1', 'C2', 'C2', 'C3', 'C3', 'C3'],\n",
    "    'order_date': ['2017-10-02 10:56:33', '2017-11-05 12:34:56', '2017-11-10 14:23:45',\n",
    "                   '2017-10-10 09:45:12', '2017-11-15 17:30:45', '2017-10-20 08:12:34',\n",
    "                   '2017-12-01 19:28:56', '2017-12-15 20:15:23']\n",
    "})\n",
    "\n",
    "# Convert order_date to datetime and then to date\n",
    "df_orders['order_date'] = pd.to_datetime(df_orders['order_date']).dt.date\n",
    "\n",
    "# Sort orders by customer and date\n",
    "df_orders = df_orders.sort_values(by=['customer_unique_id', 'order_date'])\n",
    "\n",
    "# Calculate time difference between orders for each customer\n",
    "df_orders['time_diff'] = df_orders.groupby('customer_unique_id')['order_date'].diff()\n",
    "\n",
    "# Filter orders where time difference is <= 30 days\n",
    "df_filtered = df_orders[df_orders['time_diff'] <= pd.Timedelta(days=30)]"
   ]
  },
  {
   "cell_type": "code",
   "execution_count": 49,
   "id": "4b9c6ec7",
   "metadata": {},
   "outputs": [
    {
     "data": {
      "text/html": [
       "<div>\n",
       "<style scoped>\n",
       "    .dataframe tbody tr th:only-of-type {\n",
       "        vertical-align: middle;\n",
       "    }\n",
       "\n",
       "    .dataframe tbody tr th {\n",
       "        vertical-align: top;\n",
       "    }\n",
       "\n",
       "    .dataframe thead th {\n",
       "        text-align: right;\n",
       "    }\n",
       "</style>\n",
       "<table border=\"1\" class=\"dataframe\">\n",
       "  <thead>\n",
       "    <tr style=\"text-align: right;\">\n",
       "      <th></th>\n",
       "      <th>customer_unique_id</th>\n",
       "      <th>order_date</th>\n",
       "      <th>time_diff</th>\n",
       "    </tr>\n",
       "  </thead>\n",
       "  <tbody>\n",
       "    <tr>\n",
       "      <th>2</th>\n",
       "      <td>C1</td>\n",
       "      <td>2017-11-10</td>\n",
       "      <td>5 days</td>\n",
       "    </tr>\n",
       "    <tr>\n",
       "      <th>7</th>\n",
       "      <td>C3</td>\n",
       "      <td>2017-12-15</td>\n",
       "      <td>14 days</td>\n",
       "    </tr>\n",
       "  </tbody>\n",
       "</table>\n",
       "</div>"
      ],
      "text/plain": [
       "  customer_unique_id  order_date time_diff\n",
       "2                 C1  2017-11-10    5 days\n",
       "7                 C3  2017-12-15   14 days"
      ]
     },
     "execution_count": 49,
     "metadata": {},
     "output_type": "execute_result"
    }
   ],
   "source": [
    "df_filtered"
   ]
  },
  {
   "cell_type": "code",
   "execution_count": null,
   "id": "e337d4c9",
   "metadata": {},
   "outputs": [],
   "source": []
  }
 ],
 "metadata": {
  "kernelspec": {
   "display_name": "Python 3 (ipykernel)",
   "language": "python",
   "name": "python3"
  },
  "language_info": {
   "codemirror_mode": {
    "name": "ipython",
    "version": 3
   },
   "file_extension": ".py",
   "mimetype": "text/x-python",
   "name": "python",
   "nbconvert_exporter": "python",
   "pygments_lexer": "ipython3",
   "version": "3.11.4"
  }
 },
 "nbformat": 4,
 "nbformat_minor": 5
}

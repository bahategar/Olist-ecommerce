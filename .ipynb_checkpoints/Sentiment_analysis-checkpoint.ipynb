{
 "cells": [
  {
   "cell_type": "code",
   "execution_count": 51,
   "id": "6cb967f5",
   "metadata": {},
   "outputs": [],
   "source": [
    "# # Reading all the files\n",
    "# raw_path = '../input/brazilian-ecommerce/'\n",
    "# olist_customer = pd.read_csv(raw_path + 'olist_customers_dataset.csv')\n",
    "# olist_geolocation = pd.read_csv(raw_path + 'olist_geolocation_dataset.csv')\n",
    "# olist_orders = pd.read_csv(raw_path + 'olist_orders_dataset.csv')\n",
    "# olist_order_items = pd.read_csv(raw_path + 'olist_order_items_dataset.csv')\n",
    "# olist_order_payments = pd.read_csv(raw_path + 'olist_order_payments_dataset.csv')\n",
    "# olist_order_reviews = pd.read_csv(raw_path + 'olist_order_reviews_dataset.csv')\n",
    "# olist_products = pd.read_csv(raw_path + 'olist_products_dataset.csv')\n",
    "# olist_sellers = pd.read_csv(raw_path + 'olist_sellers_dataset.csv')"
   ]
  },
  {
   "cell_type": "code",
   "execution_count": 52,
   "id": "f89e747d",
   "metadata": {},
   "outputs": [],
   "source": [
    "import pandas as pd\n",
    "import numpy as np\n",
    "import matplotlib.pyplot as plt\n",
    "import seaborn as sns\n",
    "import re"
   ]
  },
  {
   "cell_type": "code",
   "execution_count": 53,
   "id": "b27f3265",
   "metadata": {},
   "outputs": [
    {
     "name": "stdout",
     "output_type": "stream",
     "text": [
      "<class 'pandas.core.frame.DataFrame'>\n",
      "RangeIndex: 99224 entries, 0 to 99223\n",
      "Data columns (total 7 columns):\n",
      " #   Column                   Non-Null Count  Dtype \n",
      "---  ------                   --------------  ----- \n",
      " 0   review_id                99224 non-null  object\n",
      " 1   order_id                 99224 non-null  object\n",
      " 2   review_score             99224 non-null  int64 \n",
      " 3   review_comment_title     11568 non-null  object\n",
      " 4   review_comment_message   40977 non-null  object\n",
      " 5   review_creation_date     99224 non-null  object\n",
      " 6   review_answer_timestamp  99224 non-null  object\n",
      "dtypes: int64(1), object(6)\n",
      "memory usage: 5.3+ MB\n",
      "None\n"
     ]
    },
    {
     "data": {
      "text/html": [
       "<div>\n",
       "<style scoped>\n",
       "    .dataframe tbody tr th:only-of-type {\n",
       "        vertical-align: middle;\n",
       "    }\n",
       "\n",
       "    .dataframe tbody tr th {\n",
       "        vertical-align: top;\n",
       "    }\n",
       "\n",
       "    .dataframe thead th {\n",
       "        text-align: right;\n",
       "    }\n",
       "</style>\n",
       "<table border=\"1\" class=\"dataframe\">\n",
       "  <thead>\n",
       "    <tr style=\"text-align: right;\">\n",
       "      <th></th>\n",
       "      <th>review_id</th>\n",
       "      <th>order_id</th>\n",
       "      <th>review_score</th>\n",
       "      <th>review_comment_title</th>\n",
       "      <th>review_comment_message</th>\n",
       "      <th>review_creation_date</th>\n",
       "      <th>review_answer_timestamp</th>\n",
       "    </tr>\n",
       "  </thead>\n",
       "  <tbody>\n",
       "    <tr>\n",
       "      <th>0</th>\n",
       "      <td>7bc2406110b926393aa56f80a40eba40</td>\n",
       "      <td>73fc7af87114b39712e6da79b0a377eb</td>\n",
       "      <td>4</td>\n",
       "      <td>NaN</td>\n",
       "      <td>NaN</td>\n",
       "      <td>2018-01-18 00:00:00</td>\n",
       "      <td>2018-01-18 21:46:59</td>\n",
       "    </tr>\n",
       "    <tr>\n",
       "      <th>1</th>\n",
       "      <td>80e641a11e56f04c1ad469d5645fdfde</td>\n",
       "      <td>a548910a1c6147796b98fdf73dbeba33</td>\n",
       "      <td>5</td>\n",
       "      <td>NaN</td>\n",
       "      <td>NaN</td>\n",
       "      <td>2018-03-10 00:00:00</td>\n",
       "      <td>2018-03-11 03:05:13</td>\n",
       "    </tr>\n",
       "    <tr>\n",
       "      <th>2</th>\n",
       "      <td>228ce5500dc1d8e020d8d1322874b6f0</td>\n",
       "      <td>f9e4b658b201a9f2ecdecbb34bed034b</td>\n",
       "      <td>5</td>\n",
       "      <td>NaN</td>\n",
       "      <td>NaN</td>\n",
       "      <td>2018-02-17 00:00:00</td>\n",
       "      <td>2018-02-18 14:36:24</td>\n",
       "    </tr>\n",
       "    <tr>\n",
       "      <th>3</th>\n",
       "      <td>e64fb393e7b32834bb789ff8bb30750e</td>\n",
       "      <td>658677c97b385a9be170737859d3511b</td>\n",
       "      <td>5</td>\n",
       "      <td>NaN</td>\n",
       "      <td>Recebi bem antes do prazo estipulado.</td>\n",
       "      <td>2017-04-21 00:00:00</td>\n",
       "      <td>2017-04-21 22:02:06</td>\n",
       "    </tr>\n",
       "    <tr>\n",
       "      <th>4</th>\n",
       "      <td>f7c4243c7fe1938f181bec41a392bdeb</td>\n",
       "      <td>8e6bfb81e283fa7e4f11123a3fb894f1</td>\n",
       "      <td>5</td>\n",
       "      <td>NaN</td>\n",
       "      <td>Parabéns lojas lannister adorei comprar pela I...</td>\n",
       "      <td>2018-03-01 00:00:00</td>\n",
       "      <td>2018-03-02 10:26:53</td>\n",
       "    </tr>\n",
       "  </tbody>\n",
       "</table>\n",
       "</div>"
      ],
      "text/plain": [
       "                          review_id                          order_id  \\\n",
       "0  7bc2406110b926393aa56f80a40eba40  73fc7af87114b39712e6da79b0a377eb   \n",
       "1  80e641a11e56f04c1ad469d5645fdfde  a548910a1c6147796b98fdf73dbeba33   \n",
       "2  228ce5500dc1d8e020d8d1322874b6f0  f9e4b658b201a9f2ecdecbb34bed034b   \n",
       "3  e64fb393e7b32834bb789ff8bb30750e  658677c97b385a9be170737859d3511b   \n",
       "4  f7c4243c7fe1938f181bec41a392bdeb  8e6bfb81e283fa7e4f11123a3fb894f1   \n",
       "\n",
       "   review_score review_comment_title  \\\n",
       "0             4                  NaN   \n",
       "1             5                  NaN   \n",
       "2             5                  NaN   \n",
       "3             5                  NaN   \n",
       "4             5                  NaN   \n",
       "\n",
       "                              review_comment_message review_creation_date  \\\n",
       "0                                                NaN  2018-01-18 00:00:00   \n",
       "1                                                NaN  2018-03-10 00:00:00   \n",
       "2                                                NaN  2018-02-17 00:00:00   \n",
       "3              Recebi bem antes do prazo estipulado.  2017-04-21 00:00:00   \n",
       "4  Parabéns lojas lannister adorei comprar pela I...  2018-03-01 00:00:00   \n",
       "\n",
       "  review_answer_timestamp  \n",
       "0     2018-01-18 21:46:59  \n",
       "1     2018-03-11 03:05:13  \n",
       "2     2018-02-18 14:36:24  \n",
       "3     2017-04-21 22:02:06  \n",
       "4     2018-03-02 10:26:53  "
      ]
     },
     "execution_count": 53,
     "metadata": {},
     "output_type": "execute_result"
    }
   ],
   "source": [
    "# Order reviews dataset\n",
    "df_reviews = pd.read_csv('data/olist_order_reviews_dataset.csv')\n",
    "print(df_reviews.info())\n",
    "\n",
    "df_reviews.head()"
   ]
  },
  {
   "cell_type": "code",
   "execution_count": 54,
   "id": "500753fc",
   "metadata": {},
   "outputs": [],
   "source": [
    "# df_reviews = df_reviews.fillna(' ')\n",
    "# df_reviews['review_creation_date'] = pd.to_datetime(df_reviews['review_creation_date'])\n",
    "# df_reviews['review_answer_timestamp'] = pd.to_datetime(df_reviews['review_answer_timestamp'])\n",
    "# print(df_reviews.info())\n",
    "\n",
    "# df_reviews.head()"
   ]
  },
  {
   "cell_type": "code",
   "execution_count": 55,
   "id": "da531b13",
   "metadata": {},
   "outputs": [],
   "source": [
    "# df_reviews['time_hours_response'] = round((df_reviews['review_answer_timestamp'] - df_reviews['review_creation_date'])\\\n",
    "#                                     .dt.total_seconds() / 3600, 0)\n",
    "\n",
    "# df_reviews.head()"
   ]
  },
  {
   "cell_type": "code",
   "execution_count": 56,
   "id": "294948ec",
   "metadata": {},
   "outputs": [
    {
     "name": "stdout",
     "output_type": "stream",
     "text": [
      "Dataset shape: (40977, 2)\n"
     ]
    },
    {
     "data": {
      "text/html": [
       "<div>\n",
       "<style scoped>\n",
       "    .dataframe tbody tr th:only-of-type {\n",
       "        vertical-align: middle;\n",
       "    }\n",
       "\n",
       "    .dataframe tbody tr th {\n",
       "        vertical-align: top;\n",
       "    }\n",
       "\n",
       "    .dataframe thead th {\n",
       "        text-align: right;\n",
       "    }\n",
       "</style>\n",
       "<table border=\"1\" class=\"dataframe\">\n",
       "  <thead>\n",
       "    <tr style=\"text-align: right;\">\n",
       "      <th></th>\n",
       "      <th>score</th>\n",
       "      <th>comment</th>\n",
       "    </tr>\n",
       "  </thead>\n",
       "  <tbody>\n",
       "    <tr>\n",
       "      <th>0</th>\n",
       "      <td>5</td>\n",
       "      <td>Recebi bem antes do prazo estipulado.</td>\n",
       "    </tr>\n",
       "    <tr>\n",
       "      <th>1</th>\n",
       "      <td>5</td>\n",
       "      <td>Parabéns lojas lannister adorei comprar pela I...</td>\n",
       "    </tr>\n",
       "    <tr>\n",
       "      <th>2</th>\n",
       "      <td>4</td>\n",
       "      <td>aparelho eficiente. no site a marca do aparelh...</td>\n",
       "    </tr>\n",
       "    <tr>\n",
       "      <th>3</th>\n",
       "      <td>4</td>\n",
       "      <td>Mas um pouco ,travando...pelo valor ta Boa.\\r\\n</td>\n",
       "    </tr>\n",
       "    <tr>\n",
       "      <th>4</th>\n",
       "      <td>5</td>\n",
       "      <td>Vendedor confiável, produto ok e entrega antes...</td>\n",
       "    </tr>\n",
       "  </tbody>\n",
       "</table>\n",
       "</div>"
      ],
      "text/plain": [
       "   score                                            comment\n",
       "0      5              Recebi bem antes do prazo estipulado.\n",
       "1      5  Parabéns lojas lannister adorei comprar pela I...\n",
       "2      4  aparelho eficiente. no site a marca do aparelh...\n",
       "3      4    Mas um pouco ,travando...pelo valor ta Boa.\\r\\n\n",
       "4      5  Vendedor confiável, produto ok e entrega antes..."
      ]
     },
     "execution_count": 56,
     "metadata": {},
     "output_type": "execute_result"
    }
   ],
   "source": [
    "df_comments = df_reviews.loc[:, ['review_score', 'review_comment_message']]\n",
    "df_comments = df_comments.dropna(subset=['review_comment_message'])\n",
    "df_comments = df_comments.reset_index(drop=True)\n",
    "print(f'Dataset shape: {df_comments.shape}')\n",
    "df_comments.columns = ['score', 'comment']\n",
    "df_comments.head()"
   ]
  },
  {
   "cell_type": "markdown",
   "id": "fa948fe1",
   "metadata": {},
   "source": [
    "**Breakline and Carriage Return**"
   ]
  },
  {
   "cell_type": "code",
   "execution_count": 57,
   "id": "b716c2fb",
   "metadata": {},
   "outputs": [],
   "source": [
    "def re_breakline(text_list):\n",
    "    \"\"\"\n",
    "    Args:\n",
    "    ----------\n",
    "    text_list: list object with text content to be prepared [type: list]\n",
    "    \"\"\"\n",
    "    \n",
    "    # Applying regex\n",
    "    return [re.sub('[\\n\\r]', ' ', r) for r in text_list]"
   ]
  },
  {
   "cell_type": "code",
   "execution_count": 58,
   "id": "25628d4b",
   "metadata": {},
   "outputs": [
    {
     "name": "stdout",
     "output_type": "stream",
     "text": [
      "Before:\n",
      " Estava faltando apenas um produto, eu recebi hoje , muito obrigada!\r\n",
      "Tudo certo!\r\n",
      "\r\n",
      "Att \r\n",
      "\r\n",
      "Elenice.\n",
      "--------------------\n",
      "After:\n",
      " Estava faltando apenas um produto, eu recebi hoje , muito obrigada!  Tudo certo!    Att     Elenice.\n"
     ]
    }
   ],
   "source": [
    "# Creating a list of comment reviews\n",
    "reviews = list(df_comments['comment'].values)\n",
    "\n",
    "# Applying RegEx\n",
    "reviews_breakline = re_breakline(reviews)\n",
    "df_comments['re_breakline'] = reviews_breakline\n",
    "\n",
    "print(\"Before:\\n\", reviews[48])\n",
    "print('--------------------')\n",
    "print(\"After:\\n\", reviews_breakline[48])"
   ]
  },
  {
   "cell_type": "markdown",
   "id": "205510aa",
   "metadata": {},
   "source": [
    "**Sites and Hiperlinks**"
   ]
  },
  {
   "cell_type": "code",
   "execution_count": 59,
   "id": "bd4a1f93",
   "metadata": {},
   "outputs": [],
   "source": [
    "def re_hiperlinks(text_list):\n",
    "    \"\"\"\n",
    "    Args:\n",
    "    ----------\n",
    "    text_list: list object with text content to be prepared [type: list]\n",
    "    \"\"\"\n",
    "    \n",
    "    # Applying regex\n",
    "    pattern = 'http[s]?://(?:[a-zA-Z]|[0-9]|[$-_@.&+]|[!*\\(\\),]|(?:%[0-9a-fA-F][0-9a-fA-F]))+'\n",
    "    return [re.sub(pattern, ' link ', r) for r in text_list]"
   ]
  },
  {
   "cell_type": "code",
   "execution_count": 60,
   "id": "dc1ab8de",
   "metadata": {},
   "outputs": [
    {
     "name": "stdout",
     "output_type": "stream",
     "text": [
      "First row with a hyperlink:\n",
      "Int64Index([10607], dtype='int64')\n",
      "[[2\n",
      "  'comprei o produto pela cor ilustrada pelo site da loja americana, no site mostra ser preto http://prntscr.com/jkx7hr quando o produto chegou aqui veio todos com a mesma cor, tabaco http://prntscr.com/'\n",
      "  'comprei o produto pela cor ilustrada pelo site da loja americana, no site mostra ser preto http://prntscr.com/jkx7hr quando o produto chegou aqui veio todos com a mesma cor, tabaco http://prntscr.com/']]\n"
     ]
    }
   ],
   "source": [
    "# Check is there any hyperlink\n",
    "first_hyperlink_row = df_comments[df_comments['comment']\\\n",
    "                                  .str\\\n",
    "                                  .contains(r'''http[s]?://(?:[a-zA-Z]|[0-9]|[$-_@.&+]\n",
    "                                  |[!*\\\\(\\\\),]|(?:%[0-9a-fA-F][0-9a-fA-F]))+''',\n",
    "                                            na=False)]\\\n",
    "                                  .head(1)\n",
    "\n",
    "print(\"First row with a hyperlink:\")\n",
    "print(first_hyperlink_row.index)\n",
    "print(first_hyperlink_row.values)"
   ]
  },
  {
   "cell_type": "code",
   "execution_count": 61,
   "id": "b8a7686b",
   "metadata": {},
   "outputs": [
    {
     "name": "stdout",
     "output_type": "stream",
     "text": [
      "Before:\n",
      " comprei o produto pela cor ilustrada pelo site da loja americana, no site mostra ser preto http://prntscr.com/jkx7hr quando o produto chegou aqui veio todos com a mesma cor, tabaco http://prntscr.com/\n",
      "--------------------\n",
      "After:\n",
      " comprei o produto pela cor ilustrada pelo site da loja americana, no site mostra ser preto  link  quando o produto chegou aqui veio todos com a mesma cor, tabaco  link \n"
     ]
    }
   ],
   "source": [
    "# Applying RegEx\n",
    "reviews_hiperlinks = re_hiperlinks(reviews_breakline)\n",
    "df_comments['re_hiperlinks'] = reviews_hiperlinks\n",
    "\n",
    "print(\"Before:\\n\", reviews_breakline[10607])\n",
    "print('--------------------')\n",
    "print(\"After:\\n\", reviews_hiperlinks[10607])"
   ]
  },
  {
   "cell_type": "markdown",
   "id": "21394ba8",
   "metadata": {},
   "source": [
    "**Dates**"
   ]
  },
  {
   "cell_type": "code",
   "execution_count": 62,
   "id": "900ea08a",
   "metadata": {},
   "outputs": [],
   "source": [
    "def re_dates(text_list):\n",
    "    \"\"\"\n",
    "    Args:\n",
    "    ----------\n",
    "    text_list: list object with text content to be prepared [type: list]\n",
    "    \"\"\"\n",
    "    \n",
    "    # Applying regex\n",
    "    pattern = '([0-2][0-9]|(3)[0-1])(\\/|\\.)(((0)[0-9])|((1)[0-2]))(\\/|\\.)\\d{2,4}'\n",
    "    return [re.sub(pattern, ' date ', r) for r in text_list]"
   ]
  },
  {
   "cell_type": "code",
   "execution_count": 63,
   "id": "b7ac41ae",
   "metadata": {},
   "outputs": [
    {
     "name": "stdout",
     "output_type": "stream",
     "text": [
      "First row with a hyperlink:\n",
      "Int64Index([567], dtype='int64')\n",
      "[[1\n",
      "  'ENTREGA MUITO DEMORADA, COMPREI EM 26/03/2018 E ATÉ AGORA NÃO RECEBI OS PRODUTOS'\n",
      "  'ENTREGA MUITO DEMORADA, COMPREI EM 26/03/2018 E ATÉ AGORA NÃO RECEBI OS PRODUTOS'\n",
      "  'ENTREGA MUITO DEMORADA, COMPREI EM 26/03/2018 E ATÉ AGORA NÃO RECEBI OS PRODUTOS']]\n"
     ]
    }
   ],
   "source": [
    "# Is there any date with format '/' or '\\'\n",
    "\n",
    "first_date_row = df_comments[df_comments['comment'].str.contains(r'\\d{2}[/-]\\d{2}[/-]\\d{4}', na=False)].head(1)\n",
    "\n",
    "print(\"First row with a hyperlink:\")\n",
    "print(first_date_row.index)\n",
    "print(first_date_row.values)"
   ]
  },
  {
   "cell_type": "code",
   "execution_count": 64,
   "id": "396f3dfd",
   "metadata": {},
   "outputs": [
    {
     "name": "stdout",
     "output_type": "stream",
     "text": [
      "Before:\n",
      " ENTREGA MUITO DEMORADA, COMPREI EM 26/03/2018 E ATÉ AGORA NÃO RECEBI OS PRODUTOS\n",
      "--------------------\n",
      "After:\n",
      " ENTREGA MUITO DEMORADA, COMPREI EM  date  E ATÉ AGORA NÃO RECEBI OS PRODUTOS\n"
     ]
    }
   ],
   "source": [
    "reviews_dates = re_dates(reviews_hiperlinks)\n",
    "df_comments['re_dates'] = reviews_dates\n",
    "\n",
    "print(\"Before:\\n\", reviews_hiperlinks[567])\n",
    "print('--------------------')\n",
    "print(\"After:\\n\", reviews_dates[567])"
   ]
  },
  {
   "cell_type": "markdown",
   "id": "bcd61d48",
   "metadata": {},
   "source": [
    "**Money pattern**"
   ]
  },
  {
   "cell_type": "code",
   "execution_count": 65,
   "id": "3f31dd4b",
   "metadata": {},
   "outputs": [],
   "source": [
    "def re_money(text_list):\n",
    "    \"\"\"\n",
    "    Args:\n",
    "    ----------\n",
    "    text_list: list object with text content to be prepared [type: list]\n",
    "    \"\"\"\n",
    "    \n",
    "    # Applying regex\n",
    "    pattern = '[R]{0,1}\\$[ ]{0,}\\d+(,|\\.)\\d+'\n",
    "    return [re.sub(pattern, ' dinheiro ', r) for r in text_list]"
   ]
  },
  {
   "cell_type": "code",
   "execution_count": 66,
   "id": "96f6d80a",
   "metadata": {},
   "outputs": [
    {
     "name": "stdout",
     "output_type": "stream",
     "text": [
      "First row with a hyperlink:\n",
      "Int64Index([45], dtype='int64')\n",
      "[[1\n",
      "  'Este foi o pedido\\r\\nBalde Com 128 Peças - Blocos De Montar 2 un - R$ 25,00 cada (NÃO FOI ENTREGUE)\\r\\nVendido e entregue targaryen\\r\\nTapete de Eva Nº Letras 36 Peças Crianças 1 un - R$ 35,90 (ESTE FOI ENTREG'\n",
      "  'Este foi o pedido  Balde Com 128 Peças - Blocos De Montar 2 un - R$ 25,00 cada (NÃO FOI ENTREGUE)  Vendido e entregue targaryen  Tapete de Eva Nº Letras 36 Peças Crianças 1 un - R$ 35,90 (ESTE FOI ENTREG'\n",
      "  'Este foi o pedido  Balde Com 128 Peças - Blocos De Montar 2 un - R$ 25,00 cada (NÃO FOI ENTREGUE)  Vendido e entregue targaryen  Tapete de Eva Nº Letras 36 Peças Crianças 1 un - R$ 35,90 (ESTE FOI ENTREG'\n",
      "  'Este foi o pedido  Balde Com 128 Peças - Blocos De Montar 2 un - R$ 25,00 cada (NÃO FOI ENTREGUE)  Vendido e entregue targaryen  Tapete de Eva Nº Letras 36 Peças Crianças 1 un - R$ 35,90 (ESTE FOI ENTREG']]\n"
     ]
    }
   ],
   "source": [
    "# Is there any data with format 'R$ __,__'\n",
    "\n",
    "first_price_row = df_comments[df_comments['comment'].str.contains(r'R\\$\\s\\d{1,3},\\d{2}', na=False)].head(1)\n",
    "\n",
    "print(\"First row with a hyperlink:\")\n",
    "print(first_price_row.index)\n",
    "print(first_price_row.values)"
   ]
  },
  {
   "cell_type": "code",
   "execution_count": 67,
   "id": "cdc69217",
   "metadata": {},
   "outputs": [
    {
     "name": "stdout",
     "output_type": "stream",
     "text": [
      "Before:\n",
      " Este foi o pedido  Balde Com 128 Peças - Blocos De Montar 2 un - R$ 25,00 cada (NÃO FOI ENTREGUE)  Vendido e entregue targaryen  Tapete de Eva Nº Letras 36 Peças Crianças 1 un - R$ 35,90 (ESTE FOI ENTREG\n",
      "--------------------\n",
      "After:\n",
      " ENTREGA MUITO DEMORADA, COMPREI EM  date  E ATÉ AGORA NÃO RECEBI OS PRODUTOS\n"
     ]
    }
   ],
   "source": [
    "reviews_money = re_money(reviews_dates)\n",
    "df_comments['re_money'] = reviews_money\n",
    "\n",
    "print(\"Before:\\n\", reviews_dates[45])\n",
    "print('--------------------')\n",
    "print(\"After:\\n\", reviews_money[567])"
   ]
  },
  {
   "cell_type": "markdown",
   "id": "dc1d7146",
   "metadata": {},
   "source": [
    "**Numbers**"
   ]
  },
  {
   "cell_type": "code",
   "execution_count": 68,
   "id": "8034a93e",
   "metadata": {},
   "outputs": [],
   "source": [
    "def re_numbers(text_list):\n",
    "    \"\"\"\n",
    "    Args:\n",
    "    ----------\n",
    "    text_series: list object with text content to be prepared [type: list]\n",
    "    \"\"\"\n",
    "    \n",
    "    # Applying regex\n",
    "    return [re.sub('[0-9]+', ' numero ', r) for r in text_list]"
   ]
  },
  {
   "cell_type": "code",
   "execution_count": 69,
   "id": "bc4b31db",
   "metadata": {},
   "outputs": [
    {
     "name": "stdout",
     "output_type": "stream",
     "text": [
      "First row with a hyperlink:\n",
      "Int64Index([2], dtype='int64')\n",
      "[[4\n",
      "  'aparelho eficiente. no site a marca do aparelho esta impresso como 3desinfector e ao chegar esta com outro nome...atualizar com a marca correta uma vez que é o mesmo aparelho'\n",
      "  'aparelho eficiente. no site a marca do aparelho esta impresso como 3desinfector e ao chegar esta com outro nome...atualizar com a marca correta uma vez que é o mesmo aparelho'\n",
      "  'aparelho eficiente. no site a marca do aparelho esta impresso como 3desinfector e ao chegar esta com outro nome...atualizar com a marca correta uma vez que é o mesmo aparelho'\n",
      "  'aparelho eficiente. no site a marca do aparelho esta impresso como 3desinfector e ao chegar esta com outro nome...atualizar com a marca correta uma vez que é o mesmo aparelho'\n",
      "  'aparelho eficiente. no site a marca do aparelho esta impresso como 3desinfector e ao chegar esta com outro nome...atualizar com a marca correta uma vez que é o mesmo aparelho']]\n"
     ]
    }
   ],
   "source": [
    "# Is there any data with number format.\n",
    "\n",
    "first_number_row = df_comments[df_comments['comment'].str.contains(r'[0-9]+', na=False)].head(1)\n",
    "\n",
    "print(\"First row with a hyperlink:\")\n",
    "print(first_number_row.index)\n",
    "print(first_number_row.values)"
   ]
  },
  {
   "cell_type": "code",
   "execution_count": 70,
   "id": "701e4fff",
   "metadata": {},
   "outputs": [
    {
     "name": "stdout",
     "output_type": "stream",
     "text": [
      "Before:\n",
      " aparelho eficiente. no site a marca do aparelho esta impresso como 3desinfector e ao chegar esta com outro nome...atualizar com a marca correta uma vez que é o mesmo aparelho\n",
      "--------------------\n",
      "After:\n",
      " aparelho eficiente. no site a marca do aparelho esta impresso como  numero desinfector e ao chegar esta com outro nome...atualizar com a marca correta uma vez que é o mesmo aparelho\n"
     ]
    }
   ],
   "source": [
    "reviews_numbers = re_numbers(reviews_money)\n",
    "df_comments['re_numbers'] = reviews_numbers\n",
    "\n",
    "print(\"Before:\\n\", reviews_money[2])\n",
    "print('--------------------')\n",
    "print(\"After:\\n\", reviews_numbers[2])"
   ]
  },
  {
   "cell_type": "markdown",
   "id": "5096441b",
   "metadata": {},
   "source": [
    "**Negation**"
   ]
  },
  {
   "cell_type": "code",
   "execution_count": 71,
   "id": "731e68f5",
   "metadata": {},
   "outputs": [],
   "source": [
    "def re_negation(text_list):\n",
    "    \"\"\"\n",
    "    Args:\n",
    "    ----------\n",
    "    text_series: list object with text content to be prepared [type: list]\n",
    "    \"\"\"\n",
    "    \n",
    "    # Applying regex\n",
    "    return [re.sub('([nN][ãÃaA][oO]|[ñÑ]| [nN] )', ' negação ', r) for r in text_list]"
   ]
  },
  {
   "cell_type": "code",
   "execution_count": 72,
   "id": "0c8c46b4",
   "metadata": {},
   "outputs": [
    {
     "name": "stdout",
     "output_type": "stream",
     "text": [
      "First row with a hyperlink:\n",
      "Int64Index([11], dtype='int64')\n",
      "[[1 'Não gostei ! Comprei gato por lebre'\n",
      "  'Não gostei ! Comprei gato por lebre'\n",
      "  'Não gostei ! Comprei gato por lebre'\n",
      "  'Não gostei ! Comprei gato por lebre'\n",
      "  'Não gostei ! Comprei gato por lebre'\n",
      "  'Não gostei ! Comprei gato por lebre']]\n"
     ]
    },
    {
     "name": "stderr",
     "output_type": "stream",
     "text": [
      "C:\\Users\\Baha Tegar\\AppData\\Local\\Temp\\ipykernel_15028\\3038965196.py:3: UserWarning: This pattern is interpreted as a regular expression, and has match groups. To actually get the groups, use str.extract.\n",
      "  first_negation_row = df_comments[df_comments['comment'].str.contains(r'([nN][ãÃaA][oO]|[ñÑ]| [nN] )', na=False)].head(1)\n"
     ]
    }
   ],
   "source": [
    "# Check\n",
    "\n",
    "first_negation_row = df_comments[df_comments['comment'].str.contains(r'([nN][ãÃaA][oO]|[ñÑ]| [nN] )', na=False)].head(1)\n",
    "\n",
    "print(\"First row with a hyperlink:\")\n",
    "print(first_negation_row.index)\n",
    "print(first_negation_row.values)"
   ]
  },
  {
   "cell_type": "code",
   "execution_count": 73,
   "id": "fa5df2ac",
   "metadata": {},
   "outputs": [
    {
     "name": "stdout",
     "output_type": "stream",
     "text": [
      "Before:\n",
      " Não gostei ! Comprei gato por lebre\n",
      "--------------------\n",
      "After:\n",
      "  negação  gostei ! Comprei gato por lebre\n"
     ]
    }
   ],
   "source": [
    "reviews_negation = re_negation(reviews_numbers)\n",
    "df_comments['re_negation'] = reviews_negation\n",
    "\n",
    "print(\"Before:\\n\", reviews_numbers[11])\n",
    "print('--------------------')\n",
    "print(\"After:\\n\", reviews_negation[11])"
   ]
  },
  {
   "cell_type": "markdown",
   "id": "1923b4ac",
   "metadata": {},
   "source": [
    "**Special Characters**"
   ]
  },
  {
   "cell_type": "code",
   "execution_count": 74,
   "id": "ac2a2a17",
   "metadata": {},
   "outputs": [],
   "source": [
    "def re_special_chars(text_list):\n",
    "    \"\"\"\n",
    "    Args:\n",
    "    ----------\n",
    "    text_series: list object with text content to be prepared [type: list]\n",
    "    \"\"\"\n",
    "    \n",
    "    # Applying regex\n",
    "    return [re.sub('[^\\w\\s]', ' ', r) for r in text_list]"
   ]
  },
  {
   "cell_type": "code",
   "execution_count": 75,
   "id": "2b7f588c",
   "metadata": {},
   "outputs": [
    {
     "name": "stdout",
     "output_type": "stream",
     "text": [
      "First row with a special character:\n",
      "Int64Index([0], dtype='int64')\n",
      "[[5 'Recebi bem antes do prazo estipulado.'\n",
      "  'Recebi bem antes do prazo estipulado.'\n",
      "  'Recebi bem antes do prazo estipulado.'\n",
      "  'Recebi bem antes do prazo estipulado.'\n",
      "  'Recebi bem antes do prazo estipulado.'\n",
      "  'Recebi bem antes do prazo estipulado.'\n",
      "  'Recebi bem antes do prazo estipulado.']]\n"
     ]
    }
   ],
   "source": [
    "# Check\n",
    "\n",
    "first_special_row = df_comments[df_comments['comment'].str.contains(r'[^\\w\\s]', na=False)].head(1)\n",
    "\n",
    "print(\"First row with a special character:\")\n",
    "print(first_special_row.index)\n",
    "print(first_special_row.values)"
   ]
  },
  {
   "cell_type": "code",
   "execution_count": 76,
   "id": "56bdda04",
   "metadata": {},
   "outputs": [
    {
     "data": {
      "text/plain": [
       "'Cada vez que compro mais fico satisfeita parabéns pela honestidade com seus clientes 👏👏👏👏?'"
      ]
     },
     "execution_count": 76,
     "metadata": {},
     "output_type": "execute_result"
    }
   ],
   "source": [
    "df_comments['comment'].iloc[133]"
   ]
  },
  {
   "cell_type": "code",
   "execution_count": 77,
   "id": "9eb284f3",
   "metadata": {},
   "outputs": [
    {
     "name": "stdout",
     "output_type": "stream",
     "text": [
      "Before:\n",
      " Cada vez que compro mais fico satisfeita parabéns pela honestidade com seus clientes 👏👏👏👏?\n",
      "--------------------\n",
      "After:\n",
      " Cada vez que compro mais fico satisfeita parabéns pela honestidade com seus clientes      \n"
     ]
    }
   ],
   "source": [
    "reviews_special_chars = re_special_chars(reviews_negation)\n",
    "df_comments['re_special_chars'] = reviews_special_chars\n",
    "\n",
    "print(\"Before:\\n\", reviews_negation[133])\n",
    "print('--------------------')\n",
    "print(\"After:\\n\", reviews_special_chars[133])"
   ]
  },
  {
   "cell_type": "markdown",
   "id": "ba6353c6",
   "metadata": {},
   "source": [
    "**Additional Whitespaces**"
   ]
  },
  {
   "cell_type": "code",
   "execution_count": 78,
   "id": "6127bd63",
   "metadata": {},
   "outputs": [],
   "source": [
    "def re_whitespaces(text_list):\n",
    "    \"\"\"\n",
    "    Args:\n",
    "    ----------\n",
    "    text_series: list object with text content to be prepared [type: list]\n",
    "    \"\"\"\n",
    "    \n",
    "    # Applying regex\n",
    "    white_spaces = [re.sub('\\s+', ' ', r) for r in text_list]\n",
    "    white_spaces_end = [re.sub('[ \\t]+$', '', r) for r in white_spaces]\n",
    "    return white_spaces_end"
   ]
  },
  {
   "cell_type": "code",
   "execution_count": 79,
   "id": "8552520f",
   "metadata": {},
   "outputs": [
    {
     "name": "stdout",
     "output_type": "stream",
     "text": [
      "First row with a special character:\n",
      "Int64Index([3], dtype='int64')\n",
      "[[4 'Mas um pouco ,travando...pelo valor ta Boa.\\r\\n'\n",
      "  'Mas um pouco ,travando...pelo valor ta Boa.  '\n",
      "  'Mas um pouco ,travando...pelo valor ta Boa.  '\n",
      "  'Mas um pouco ,travando...pelo valor ta Boa.  '\n",
      "  'Mas um pouco ,travando...pelo valor ta Boa.  '\n",
      "  'Mas um pouco ,travando...pelo valor ta Boa.  '\n",
      "  'Mas um pouco ,travando...pelo valor ta Boa.  '\n",
      "  'Mas um pouco  travando   pelo valor ta Boa   ']]\n"
     ]
    }
   ],
   "source": [
    "first_addition_whitespace_row = df_comments[df_comments['comment'].str.contains(r'^\\s+|\\s+$', na=False)].head(1)\n",
    "\n",
    "print(\"First row with a special character:\")\n",
    "print(first_addition_whitespace_row.index)\n",
    "print(first_addition_whitespace_row.values)"
   ]
  },
  {
   "cell_type": "code",
   "execution_count": 80,
   "id": "cef10434",
   "metadata": {},
   "outputs": [
    {
     "name": "stdout",
     "output_type": "stream",
     "text": [
      "Before:\n",
      " Mas um pouco  travando   pelo valor ta Boa   \n",
      "--------------------\n",
      "After:\n",
      " Mas um pouco travando pelo valor ta Boa\n"
     ]
    }
   ],
   "source": [
    "reviews_whitespaces = re_whitespaces(reviews_special_chars)\n",
    "df_comments['re_whitespaces'] = reviews_whitespaces\n",
    "\n",
    "print(\"Before:\\n\", reviews_special_chars[3])\n",
    "print('--------------------')\n",
    "print(\"After:\\n\", reviews_whitespaces[3])"
   ]
  },
  {
   "cell_type": "markdown",
   "id": "30cc83ed",
   "metadata": {},
   "source": [
    "# Stopwords"
   ]
  },
  {
   "cell_type": "code",
   "execution_count": 81,
   "id": "6b610579",
   "metadata": {},
   "outputs": [],
   "source": [
    "# # DataPrep\n",
    "# import re\n",
    "# from nltk.corpus import stopwords\n",
    "# from nltk.stem import RSLPStemmer\n",
    "# from sklearn.feature_extraction.text import CountVectorizer, TfidfVectorizer\n",
    "# from sklearn.base import BaseEstimator, TransformerMixin\n",
    "# from sklearn.pipeline import Pipeline\n",
    "# import joblib"
   ]
  },
  {
   "cell_type": "code",
   "execution_count": 82,
   "id": "a14df655",
   "metadata": {},
   "outputs": [
    {
     "name": "stdout",
     "output_type": "stream",
     "text": [
      "Total portuguese stopwords in the nltk.corpous module: 207\n"
     ]
    },
    {
     "data": {
      "text/plain": [
       "['a',\n",
       " 'à',\n",
       " 'ao',\n",
       " 'aos',\n",
       " 'aquela',\n",
       " 'aquelas',\n",
       " 'aquele',\n",
       " 'aqueles',\n",
       " 'aquilo',\n",
       " 'as']"
      ]
     },
     "execution_count": 82,
     "metadata": {},
     "output_type": "execute_result"
    }
   ],
   "source": [
    "# Examples of some portuguese stopwords\n",
    "pt_stopwords = stopwords.words('portuguese')\n",
    "print(f'Total portuguese stopwords in the nltk.corpous module: {len(pt_stopwords)}')\n",
    "pt_stopwords[:10]"
   ]
  },
  {
   "cell_type": "code",
   "execution_count": 83,
   "id": "ca1472e5",
   "metadata": {},
   "outputs": [],
   "source": [
    "# # # Download nltk\n",
    "# import nltk\n",
    "# nltk.download('stopwords')"
   ]
  },
  {
   "cell_type": "code",
   "execution_count": 84,
   "id": "ee085cba",
   "metadata": {},
   "outputs": [
    {
     "name": "stdout",
     "output_type": "stream",
     "text": [
      "<WordListCorpusReader in 'C:\\\\Users\\\\Baha Tegar\\\\AppData\\\\Roaming\\\\nltk_data\\\\corpora\\\\stopwords'>\n"
     ]
    }
   ],
   "source": [
    "from nltk.corpus import stopwords\n",
    "\n",
    "print(stopwords)"
   ]
  },
  {
   "cell_type": "code",
   "execution_count": 85,
   "id": "4b3b7eb5",
   "metadata": {},
   "outputs": [],
   "source": [
    "from nltk.corpus import stopwords\n",
    "\n",
    "def stopwords_removal(text, cached_stopwords=stopwords.words('portuguese')):\n",
    "    \"\"\"\n",
    "    Args:\n",
    "    ---------\n",
    "    text: list object where the stopwords will be removed [type: list]\n",
    "    cached_stopwords: stopwords to be applied on the process [type: list, \n",
    "        default: stopwords.words('portugese')]\n",
    "    \"\"\"\n",
    "    \n",
    "    return [c.lower() for c in text.split() if c.lower() not in cached_stopwords]\n"
   ]
  },
  {
   "cell_type": "code",
   "execution_count": 86,
   "id": "44d0e0f4",
   "metadata": {},
   "outputs": [
    {
     "name": "stdout",
     "output_type": "stream",
     "text": [
      "Before:\n",
      " Recebi bem antes do prazo estipulado\n",
      "--------------------\n",
      "After:\n",
      " recebi bem antes prazo estipulado\n"
     ]
    }
   ],
   "source": [
    "# Removing stopwords and looking at some examples\n",
    "reviews_stopwords = [' '.join(stopwords_removal(review)) for review in reviews_whitespaces]\n",
    "df_comments['stopwords_removed'] = reviews_stopwords\n",
    "\n",
    "print(\"Before:\\n\", reviews_whitespaces[0])\n",
    "print('--------------------')\n",
    "print(\"After:\\n\", reviews_stopwords[0])"
   ]
  },
  {
   "cell_type": "markdown",
   "id": "879b40e0",
   "metadata": {},
   "source": [
    "# Stemming"
   ]
  },
  {
   "cell_type": "code",
   "execution_count": 87,
   "id": "57a7fb4d",
   "metadata": {},
   "outputs": [],
   "source": [
    "# import nltk\n",
    "# nltk.download('rslp')"
   ]
  },
  {
   "cell_type": "code",
   "execution_count": 88,
   "id": "2e6e4d1f",
   "metadata": {},
   "outputs": [],
   "source": [
    "from nltk.stem import RSLPStemmer\n",
    "\n",
    "def stemming_process(text, stemmer=RSLPStemmer()):\n",
    "    \"\"\"\n",
    "    Args:\n",
    "    ----------\n",
    "    text: list object where the stopwords will be removed [type: list]\n",
    "    \n",
    "    stemmer: type of stemmer to be applied [type: class, default: RSLPStemmer()]\n",
    "    \"\"\"\n",
    "    \n",
    "    return [stemmer.stem(c) for c in text.split()]"
   ]
  },
  {
   "cell_type": "code",
   "execution_count": 89,
   "id": "9da9a18f",
   "metadata": {},
   "outputs": [
    {
     "name": "stdout",
     "output_type": "stream",
     "text": [
      "Before:\n",
      " recebi bem antes prazo estipulado\n",
      "--------------------\n",
      "After:\n",
      " receb bem ant praz estipul\n"
     ]
    }
   ],
   "source": [
    "reviews_stemmer = [' '.join(stemming_process(review)) for review in reviews_stopwords]\n",
    "df_comments['stemming'] = reviews_stemmer\n",
    "\n",
    "print(\"Before:\\n\", reviews_stopwords[0])\n",
    "print('--------------------')\n",
    "print(\"After:\\n\", reviews_stemmer[0])"
   ]
  },
  {
   "cell_type": "markdown",
   "id": "dc26b0da",
   "metadata": {},
   "source": [
    "# Feature Extraction"
   ]
  },
  {
   "cell_type": "code",
   "execution_count": 90,
   "id": "ea3573e0",
   "metadata": {},
   "outputs": [],
   "source": [
    "# DataPrep\n",
    "import re\n",
    "from nltk.corpus import stopwords\n",
    "from nltk.stem import RSLPStemmer\n",
    "from sklearn.feature_extraction.text import CountVectorizer, TfidfVectorizer\n",
    "from sklearn.base import BaseEstimator, TransformerMixin\n",
    "from sklearn.pipeline import Pipeline\n",
    "import joblib\n",
    "\n",
    "# Modeling\n",
    "from sklearn.model_selection import train_test_split\n",
    "from sklearn.linear_model import LogisticRegression\n",
    "from sklearn.naive_bayes import GaussianNB\n",
    "# import lightgbm as lgb"
   ]
  },
  {
   "cell_type": "code",
   "execution_count": 91,
   "id": "01515ac4",
   "metadata": {},
   "outputs": [],
   "source": [
    "def extract_features_from_corpus(corpus, vectorizer, df=False):\n",
    "    \"\"\"\n",
    "    Args\n",
    "    ------------\n",
    "    text: text to be transformed into a document-term matrix [type: string]\n",
    "    vectorizer: engine to be used in the transformation [type: object]\n",
    "    \"\"\"\n",
    "    \n",
    "    # Extracting features\n",
    "    corpus_features = vectorizer.fit_transform(corpus).toarray()\n",
    "    features_names = vectorizer.get_feature_names()\n",
    "    \n",
    "    # Transforming into a dataframe to give interpetability to the process\n",
    "    df_corpus_features = None\n",
    "    if df:\n",
    "        df_corpus_features = pd.DataFrame(corpus_features, columns=features_names)\n",
    "    \n",
    "    return corpus_features, df_corpus_features"
   ]
  },
  {
   "cell_type": "code",
   "execution_count": 95,
   "id": "b433b7dd",
   "metadata": {},
   "outputs": [],
   "source": [
    "def extract_features_from_corpus(corpus, vectorizer, df=False):\n",
    "    features = vectorizer.fit_transform(corpus)\n",
    "    \n",
    "    if df:\n",
    "        feature_names = vectorizer.get_feature_names_out()\n",
    "        df_features = pd.DataFrame(features.toarray(), columns=feature_names)\n",
    "        return features, df_features\n",
    "    else:\n",
    "        return features"
   ]
  },
  {
   "cell_type": "markdown",
   "id": "b98e344f",
   "metadata": {},
   "source": [
    "**CountVectorizer**"
   ]
  },
  {
   "cell_type": "code",
   "execution_count": 92,
   "id": "c4ba3bc0",
   "metadata": {},
   "outputs": [],
   "source": [
    "def find_patterns(re_pattern, text_list):\n",
    "    \"\"\"\n",
    "    Args:\n",
    "    ---------\n",
    "    re_pattern: regular expression pattern to be used on search [type: string]\n",
    "    text_list: list with text strings [type: list]\n",
    "    \n",
    "    Returns:\n",
    "    positions_dict: python dictionary with key-value pars as below:\n",
    "        text_idx: [(start_pattern1, end_pattern1), (start_pattern1, end_pattern2), ... (start_n, end_n)]\n",
    "    \"\"\"\n",
    "    \n",
    "    # Compiling the Regular Expression passed as a arg\n",
    "    p = re.compile(re_pattern)\n",
    "    positions_dict = {}\n",
    "    i = 0\n",
    "    for c in text_list:\n",
    "        match_list = []\n",
    "        iterator = p.finditer(c)\n",
    "        for match in iterator:\n",
    "            match_list.append(match.span())\n",
    "        control_key = f'Text idx {i}'\n",
    "        if len(match_list) == 0:\n",
    "            pass\n",
    "        else:\n",
    "            positions_dict[control_key] = match_list\n",
    "        i += 1\n",
    "        \n",
    "    \"\"\"p = '[R]{0,1}\\$[ ]{0,}\\d+(,|\\.)\\d+'\n",
    "    pattern_dict = find_patterns(p, reviews_breakline)\n",
    "    print(len(pattern_dict))\n",
    "    pattern_dict\n",
    "    for idx in [int(c.split(' ')[-1]) for c in list(pattern_dict.keys())]:\n",
    "        print(f'{reviews_breakline[idx]}\\n')\"\"\"\n",
    "\n",
    "    return positions_dict"
   ]
  },
  {
   "cell_type": "code",
   "execution_count": 93,
   "id": "585ed68c",
   "metadata": {},
   "outputs": [
    {
     "name": "stdout",
     "output_type": "stream",
     "text": [
      "Before:\n",
      " Recebi bem antes do prazo estipulado.\n",
      "--------------------\n",
      "After:\n",
      " Recebi bem antes do prazo estipulado.\n"
     ]
    }
   ],
   "source": [
    "# Applying RegEx\n",
    "reviews_negation = re_negation(reviews_numbers)\n",
    "df_comments['re_negation'] = reviews_negation\n",
    "\n",
    "# Verifying results\n",
    "print(\"Before:\\n\", reviews_negation[0])\n",
    "print('--------------------')\n",
    "print(\"After:\\n\", reviews_numbers[0])"
   ]
  },
  {
   "cell_type": "code",
   "execution_count": 96,
   "id": "881659a6",
   "metadata": {},
   "outputs": [
    {
     "name": "stdout",
     "output_type": "stream",
     "text": [
      "Shape of countv_features matrix: (40977, 300)\n",
      "\n",
      "Example of DataFrame of corpus features:\n"
     ]
    },
    {
     "data": {
      "text/html": [
       "<div>\n",
       "<style scoped>\n",
       "    .dataframe tbody tr th:only-of-type {\n",
       "        vertical-align: middle;\n",
       "    }\n",
       "\n",
       "    .dataframe tbody tr th {\n",
       "        vertical-align: top;\n",
       "    }\n",
       "\n",
       "    .dataframe thead th {\n",
       "        text-align: right;\n",
       "    }\n",
       "</style>\n",
       "<table border=\"1\" class=\"dataframe\">\n",
       "  <thead>\n",
       "    <tr style=\"text-align: right;\">\n",
       "      <th></th>\n",
       "      <th>abr</th>\n",
       "      <th>acab</th>\n",
       "      <th>ach</th>\n",
       "      <th>acontec</th>\n",
       "      <th>acord</th>\n",
       "      <th>ador</th>\n",
       "      <th>adquir</th>\n",
       "      <th>agor</th>\n",
       "      <th>aguard</th>\n",
       "      <th>aind</th>\n",
       "      <th>...</th>\n",
       "      <th>vei</th>\n",
       "      <th>vem</th>\n",
       "      <th>vend</th>\n",
       "      <th>ver</th>\n",
       "      <th>vez</th>\n",
       "      <th>vier</th>\n",
       "      <th>volt</th>\n",
       "      <th>vou</th>\n",
       "      <th>ótim</th>\n",
       "      <th>únic</th>\n",
       "    </tr>\n",
       "  </thead>\n",
       "  <tbody>\n",
       "    <tr>\n",
       "      <th>0</th>\n",
       "      <td>0</td>\n",
       "      <td>0</td>\n",
       "      <td>0</td>\n",
       "      <td>0</td>\n",
       "      <td>0</td>\n",
       "      <td>0</td>\n",
       "      <td>0</td>\n",
       "      <td>0</td>\n",
       "      <td>0</td>\n",
       "      <td>0</td>\n",
       "      <td>...</td>\n",
       "      <td>0</td>\n",
       "      <td>0</td>\n",
       "      <td>0</td>\n",
       "      <td>0</td>\n",
       "      <td>0</td>\n",
       "      <td>0</td>\n",
       "      <td>0</td>\n",
       "      <td>0</td>\n",
       "      <td>0</td>\n",
       "      <td>0</td>\n",
       "    </tr>\n",
       "    <tr>\n",
       "      <th>1</th>\n",
       "      <td>0</td>\n",
       "      <td>0</td>\n",
       "      <td>0</td>\n",
       "      <td>0</td>\n",
       "      <td>0</td>\n",
       "      <td>1</td>\n",
       "      <td>0</td>\n",
       "      <td>0</td>\n",
       "      <td>0</td>\n",
       "      <td>0</td>\n",
       "      <td>...</td>\n",
       "      <td>0</td>\n",
       "      <td>0</td>\n",
       "      <td>0</td>\n",
       "      <td>0</td>\n",
       "      <td>0</td>\n",
       "      <td>0</td>\n",
       "      <td>0</td>\n",
       "      <td>0</td>\n",
       "      <td>0</td>\n",
       "      <td>0</td>\n",
       "    </tr>\n",
       "    <tr>\n",
       "      <th>2</th>\n",
       "      <td>0</td>\n",
       "      <td>0</td>\n",
       "      <td>0</td>\n",
       "      <td>0</td>\n",
       "      <td>0</td>\n",
       "      <td>0</td>\n",
       "      <td>0</td>\n",
       "      <td>0</td>\n",
       "      <td>0</td>\n",
       "      <td>0</td>\n",
       "      <td>...</td>\n",
       "      <td>0</td>\n",
       "      <td>0</td>\n",
       "      <td>0</td>\n",
       "      <td>0</td>\n",
       "      <td>1</td>\n",
       "      <td>0</td>\n",
       "      <td>0</td>\n",
       "      <td>0</td>\n",
       "      <td>0</td>\n",
       "      <td>0</td>\n",
       "    </tr>\n",
       "    <tr>\n",
       "      <th>3</th>\n",
       "      <td>0</td>\n",
       "      <td>0</td>\n",
       "      <td>0</td>\n",
       "      <td>0</td>\n",
       "      <td>0</td>\n",
       "      <td>0</td>\n",
       "      <td>0</td>\n",
       "      <td>0</td>\n",
       "      <td>0</td>\n",
       "      <td>0</td>\n",
       "      <td>...</td>\n",
       "      <td>0</td>\n",
       "      <td>0</td>\n",
       "      <td>0</td>\n",
       "      <td>0</td>\n",
       "      <td>0</td>\n",
       "      <td>0</td>\n",
       "      <td>0</td>\n",
       "      <td>0</td>\n",
       "      <td>0</td>\n",
       "      <td>0</td>\n",
       "    </tr>\n",
       "    <tr>\n",
       "      <th>4</th>\n",
       "      <td>0</td>\n",
       "      <td>0</td>\n",
       "      <td>0</td>\n",
       "      <td>0</td>\n",
       "      <td>0</td>\n",
       "      <td>0</td>\n",
       "      <td>0</td>\n",
       "      <td>0</td>\n",
       "      <td>0</td>\n",
       "      <td>0</td>\n",
       "      <td>...</td>\n",
       "      <td>0</td>\n",
       "      <td>0</td>\n",
       "      <td>1</td>\n",
       "      <td>0</td>\n",
       "      <td>0</td>\n",
       "      <td>0</td>\n",
       "      <td>0</td>\n",
       "      <td>0</td>\n",
       "      <td>0</td>\n",
       "      <td>0</td>\n",
       "    </tr>\n",
       "  </tbody>\n",
       "</table>\n",
       "<p>5 rows × 300 columns</p>\n",
       "</div>"
      ],
      "text/plain": [
       "   abr  acab  ach  acontec  acord  ador  adquir  agor  aguard  aind  ...  vei  \\\n",
       "0    0     0    0        0      0     0       0     0       0     0  ...    0   \n",
       "1    0     0    0        0      0     1       0     0       0     0  ...    0   \n",
       "2    0     0    0        0      0     0       0     0       0     0  ...    0   \n",
       "3    0     0    0        0      0     0       0     0       0     0  ...    0   \n",
       "4    0     0    0        0      0     0       0     0       0     0  ...    0   \n",
       "\n",
       "   vem  vend  ver  vez  vier  volt  vou  ótim  únic  \n",
       "0    0     0    0    0     0     0    0     0     0  \n",
       "1    0     0    0    0     0     0    0     0     0  \n",
       "2    0     0    0    1     0     0    0     0     0  \n",
       "3    0     0    0    0     0     0    0     0     0  \n",
       "4    0     1    0    0     0     0    0     0     0  \n",
       "\n",
       "[5 rows x 300 columns]"
      ]
     },
     "execution_count": 96,
     "metadata": {},
     "output_type": "execute_result"
    }
   ],
   "source": [
    "# Creating an object for the CountVectorizer class\n",
    "count_vectorizer = CountVectorizer(max_features=300, min_df=7, max_df=0.8, stop_words=pt_stopwords)\n",
    "\n",
    "# Extracting features for the corpus\n",
    "countv_features, df_countv_features = extract_features_from_corpus(reviews_stemmer, count_vectorizer, df=True)\n",
    "print(f'Shape of countv_features matrix: {countv_features.shape}\\n')\n",
    "print(f'Example of DataFrame of corpus features:')\n",
    "df_countv_features.head()"
   ]
  },
  {
   "cell_type": "markdown",
   "id": "0aa0c5ca",
   "metadata": {},
   "source": [
    "**TF-IDF**"
   ]
  },
  {
   "cell_type": "code",
   "execution_count": 97,
   "id": "29dbdae7",
   "metadata": {},
   "outputs": [
    {
     "name": "stdout",
     "output_type": "stream",
     "text": [
      "Shape of tfidf_features matrix: (40977, 300)\n",
      "\n",
      "Example of DataFrame of corpus features:\n"
     ]
    },
    {
     "data": {
      "text/html": [
       "<div>\n",
       "<style scoped>\n",
       "    .dataframe tbody tr th:only-of-type {\n",
       "        vertical-align: middle;\n",
       "    }\n",
       "\n",
       "    .dataframe tbody tr th {\n",
       "        vertical-align: top;\n",
       "    }\n",
       "\n",
       "    .dataframe thead th {\n",
       "        text-align: right;\n",
       "    }\n",
       "</style>\n",
       "<table border=\"1\" class=\"dataframe\">\n",
       "  <thead>\n",
       "    <tr style=\"text-align: right;\">\n",
       "      <th></th>\n",
       "      <th>abr</th>\n",
       "      <th>acab</th>\n",
       "      <th>ach</th>\n",
       "      <th>acontec</th>\n",
       "      <th>acord</th>\n",
       "      <th>ador</th>\n",
       "      <th>adquir</th>\n",
       "      <th>agor</th>\n",
       "      <th>aguard</th>\n",
       "      <th>aind</th>\n",
       "      <th>...</th>\n",
       "      <th>vei</th>\n",
       "      <th>vem</th>\n",
       "      <th>vend</th>\n",
       "      <th>ver</th>\n",
       "      <th>vez</th>\n",
       "      <th>vier</th>\n",
       "      <th>volt</th>\n",
       "      <th>vou</th>\n",
       "      <th>ótim</th>\n",
       "      <th>únic</th>\n",
       "    </tr>\n",
       "  </thead>\n",
       "  <tbody>\n",
       "    <tr>\n",
       "      <th>0</th>\n",
       "      <td>0.0</td>\n",
       "      <td>0.0</td>\n",
       "      <td>0.0</td>\n",
       "      <td>0.0</td>\n",
       "      <td>0.0</td>\n",
       "      <td>0.000000</td>\n",
       "      <td>0.0</td>\n",
       "      <td>0.0</td>\n",
       "      <td>0.0</td>\n",
       "      <td>0.0</td>\n",
       "      <td>...</td>\n",
       "      <td>0.0</td>\n",
       "      <td>0.0</td>\n",
       "      <td>0.000000</td>\n",
       "      <td>0.0</td>\n",
       "      <td>0.000000</td>\n",
       "      <td>0.0</td>\n",
       "      <td>0.0</td>\n",
       "      <td>0.0</td>\n",
       "      <td>0.0</td>\n",
       "      <td>0.0</td>\n",
       "    </tr>\n",
       "    <tr>\n",
       "      <th>1</th>\n",
       "      <td>0.0</td>\n",
       "      <td>0.0</td>\n",
       "      <td>0.0</td>\n",
       "      <td>0.0</td>\n",
       "      <td>0.0</td>\n",
       "      <td>0.319302</td>\n",
       "      <td>0.0</td>\n",
       "      <td>0.0</td>\n",
       "      <td>0.0</td>\n",
       "      <td>0.0</td>\n",
       "      <td>...</td>\n",
       "      <td>0.0</td>\n",
       "      <td>0.0</td>\n",
       "      <td>0.000000</td>\n",
       "      <td>0.0</td>\n",
       "      <td>0.000000</td>\n",
       "      <td>0.0</td>\n",
       "      <td>0.0</td>\n",
       "      <td>0.0</td>\n",
       "      <td>0.0</td>\n",
       "      <td>0.0</td>\n",
       "    </tr>\n",
       "    <tr>\n",
       "      <th>2</th>\n",
       "      <td>0.0</td>\n",
       "      <td>0.0</td>\n",
       "      <td>0.0</td>\n",
       "      <td>0.0</td>\n",
       "      <td>0.0</td>\n",
       "      <td>0.000000</td>\n",
       "      <td>0.0</td>\n",
       "      <td>0.0</td>\n",
       "      <td>0.0</td>\n",
       "      <td>0.0</td>\n",
       "      <td>...</td>\n",
       "      <td>0.0</td>\n",
       "      <td>0.0</td>\n",
       "      <td>0.000000</td>\n",
       "      <td>0.0</td>\n",
       "      <td>0.196792</td>\n",
       "      <td>0.0</td>\n",
       "      <td>0.0</td>\n",
       "      <td>0.0</td>\n",
       "      <td>0.0</td>\n",
       "      <td>0.0</td>\n",
       "    </tr>\n",
       "    <tr>\n",
       "      <th>3</th>\n",
       "      <td>0.0</td>\n",
       "      <td>0.0</td>\n",
       "      <td>0.0</td>\n",
       "      <td>0.0</td>\n",
       "      <td>0.0</td>\n",
       "      <td>0.000000</td>\n",
       "      <td>0.0</td>\n",
       "      <td>0.0</td>\n",
       "      <td>0.0</td>\n",
       "      <td>0.0</td>\n",
       "      <td>...</td>\n",
       "      <td>0.0</td>\n",
       "      <td>0.0</td>\n",
       "      <td>0.000000</td>\n",
       "      <td>0.0</td>\n",
       "      <td>0.000000</td>\n",
       "      <td>0.0</td>\n",
       "      <td>0.0</td>\n",
       "      <td>0.0</td>\n",
       "      <td>0.0</td>\n",
       "      <td>0.0</td>\n",
       "    </tr>\n",
       "    <tr>\n",
       "      <th>4</th>\n",
       "      <td>0.0</td>\n",
       "      <td>0.0</td>\n",
       "      <td>0.0</td>\n",
       "      <td>0.0</td>\n",
       "      <td>0.0</td>\n",
       "      <td>0.000000</td>\n",
       "      <td>0.0</td>\n",
       "      <td>0.0</td>\n",
       "      <td>0.0</td>\n",
       "      <td>0.0</td>\n",
       "      <td>...</td>\n",
       "      <td>0.0</td>\n",
       "      <td>0.0</td>\n",
       "      <td>0.461052</td>\n",
       "      <td>0.0</td>\n",
       "      <td>0.000000</td>\n",
       "      <td>0.0</td>\n",
       "      <td>0.0</td>\n",
       "      <td>0.0</td>\n",
       "      <td>0.0</td>\n",
       "      <td>0.0</td>\n",
       "    </tr>\n",
       "  </tbody>\n",
       "</table>\n",
       "<p>5 rows × 300 columns</p>\n",
       "</div>"
      ],
      "text/plain": [
       "   abr  acab  ach  acontec  acord      ador  adquir  agor  aguard  aind  ...  \\\n",
       "0  0.0   0.0  0.0      0.0    0.0  0.000000     0.0   0.0     0.0   0.0  ...   \n",
       "1  0.0   0.0  0.0      0.0    0.0  0.319302     0.0   0.0     0.0   0.0  ...   \n",
       "2  0.0   0.0  0.0      0.0    0.0  0.000000     0.0   0.0     0.0   0.0  ...   \n",
       "3  0.0   0.0  0.0      0.0    0.0  0.000000     0.0   0.0     0.0   0.0  ...   \n",
       "4  0.0   0.0  0.0      0.0    0.0  0.000000     0.0   0.0     0.0   0.0  ...   \n",
       "\n",
       "   vei  vem      vend  ver       vez  vier  volt  vou  ótim  únic  \n",
       "0  0.0  0.0  0.000000  0.0  0.000000   0.0   0.0  0.0   0.0   0.0  \n",
       "1  0.0  0.0  0.000000  0.0  0.000000   0.0   0.0  0.0   0.0   0.0  \n",
       "2  0.0  0.0  0.000000  0.0  0.196792   0.0   0.0  0.0   0.0   0.0  \n",
       "3  0.0  0.0  0.000000  0.0  0.000000   0.0   0.0  0.0   0.0   0.0  \n",
       "4  0.0  0.0  0.461052  0.0  0.000000   0.0   0.0  0.0   0.0   0.0  \n",
       "\n",
       "[5 rows x 300 columns]"
      ]
     },
     "execution_count": 97,
     "metadata": {},
     "output_type": "execute_result"
    }
   ],
   "source": [
    "# Creating an object for the CountVectorizer class\n",
    "tfidf_vectorizer = TfidfVectorizer(max_features=300, min_df=7, max_df=0.8, stop_words=pt_stopwords)\n",
    "\n",
    "# Extracting features for the corpus\n",
    "tfidf_features, df_tfidf_features = extract_features_from_corpus(reviews_stemmer, tfidf_vectorizer, df=True)\n",
    "print(f'Shape of tfidf_features matrix: {tfidf_features.shape}\\n')\n",
    "print(f'Example of DataFrame of corpus features:')\n",
    "df_tfidf_features.head()"
   ]
  },
  {
   "cell_type": "markdown",
   "id": "acf1f372",
   "metadata": {},
   "source": [
    "**Labelling Data**"
   ]
  },
  {
   "cell_type": "code",
   "execution_count": 103,
   "id": "a68c0819",
   "metadata": {},
   "outputs": [],
   "source": [
    "score_counts = df_comments.score.value_counts()"
   ]
  },
  {
   "cell_type": "code",
   "execution_count": 104,
   "id": "65eb785e",
   "metadata": {},
   "outputs": [
    {
     "data": {
      "text/plain": [
       "<BarContainer object of 5 artists>"
      ]
     },
     "execution_count": 104,
     "metadata": {},
     "output_type": "execute_result"
    },
    {
     "data": {
      "image/png": "[encoded data removed]",
      "text/plain": [
       "<Figure size 640x480 with 1 Axes>"
      ]
     },
     "metadata": {},
     "output_type": "display_data"
    }
   ],
   "source": [
    "score_counts = df_comments.score.value_counts()\n",
    "plt.bar(score_counts.values, score_counts.index, color ='maroon', \n",
    "        width = 0.4)"
   ]
  },
  {
   "cell_type": "code",
   "execution_count": null,
   "id": "73e0380b",
   "metadata": {},
   "outputs": [],
   "source": []
  }
 ],
 "metadata": {
  "kernelspec": {
   "display_name": "Python 3 (ipykernel)",
   "language": "python",
   "name": "python3"
  },
  "language_info": {
   "codemirror_mode": {
    "name": "ipython",
    "version": 3
   },
   "file_extension": ".py",
   "mimetype": "text/x-python",
   "name": "python",
   "nbconvert_exporter": "python",
   "pygments_lexer": "ipython3",
   "version": "3.11.4"
  }
 },
 "nbformat": 4,
 "nbformat_minor": 5
}
